{
 "cells": [
  {
   "cell_type": "code",
   "execution_count": 1,
   "metadata": {},
   "outputs": [
    {
     "name": "stderr",
     "output_type": "stream",
     "text": [
      "/Users/raunaqrai/miniconda_x86_64/lib/python3.12/site-packages/huggingface_hub/file_download.py:797: FutureWarning: `resume_download` is deprecated and will be removed in version 1.0.0. Downloads always resume when possible. If you want to force a new download, use `force_download=True`.\n",
      "  warnings.warn(\n",
      "Special tokens have been added in the vocabulary, make sure the associated word embeddings are fine-tuned or trained.\n",
      "/Users/raunaqrai/miniconda_x86_64/lib/python3.12/site-packages/huggingface_hub/file_download.py:797: FutureWarning: `resume_download` is deprecated and will be removed in version 1.0.0. Downloads always resume when possible. If you want to force a new download, use `force_download=True`.\n",
      "  warnings.warn(\n"
     ]
    },
    {
     "name": "stdout",
     "output_type": "stream",
     "text": [
      "\n",
      " Avg token count: 512\n",
      " FLOPs per training step (batch): 6.75e+12\n",
      " Evaluation FLOPs: 1.69e+14\n",
      " Remaining budget for training: 9.98e+16\n",
      " Max training steps allowed: 14781\n"
     ]
    }
   ],
   "source": [
    "import sys\n",
    "import os\n",
    "sys.path.append(os.path.abspath(\"../src\"))\n",
    "from compute_flops import estimate_max_training_steps\n",
    "\n",
    "max_steps = estimate_max_training_steps(\n",
    "    data_path=\"../lotka_volterra_data.h5\",\n",
    "    lora_rank=2,\n",
    "    input_fraction=1,\n",
    "    batch_size=4,\n",
    "    flop_budget=1e17,\n",
    "    train_series_count=700,\n",
    "    eval_series_count=300,\n",
    "    context_length=512\n",
    ")\n"
   ]
  },
  {
   "cell_type": "code",
   "execution_count": null,
   "metadata": {},
   "outputs": [],
   "source": []
  },
  {
   "cell_type": "code",
   "execution_count": 5,
   "metadata": {},
   "outputs": [
    {
     "name": "stderr",
     "output_type": "stream",
     "text": [
      "Special tokens have been added in the vocabulary, make sure the associated word embeddings are fine-tuned or trained.\n"
     ]
    },
    {
     "name": "stdout",
     "output_type": "stream",
     "text": [
      "\n",
      " Context length used for FLOP estimation: 512 tokens\n",
      "\n",
      "  Total Training FLOPs: 4.06e+15\n",
      "  Total Evaluation FLOPs: 1.69e+14\n",
      "  Total Combined FLOPs: 4.23e+15\n",
      "  Percentage of FLOP budget used: 4.22516%\n"
     ]
    }
   ],
   "source": [
    "import sys\n",
    "import os\n",
    "sys.path.append(os.path.abspath(\"../src\"))\n",
    "from compute_flops import compute_flops\n",
    "\n",
    "compute_flops(\n",
    "    data_path=\"../lotka_volterra_data.h5\",\n",
    "    input_fraction=1,\n",
    "    lora_rank=8,\n",
    "    batch_size=4,\n",
    "    training_steps=600,\n",
    "    flop_budget=1e17,\n",
    "    train_series_count=700,\n",
    "    eval_series_count=300,\n",
    "    context_length=512\n",
    ")"
   ]
  },
  {
   "cell_type": "code",
   "execution_count": 4,
   "metadata": {},
   "outputs": [
    {
     "name": "stderr",
     "output_type": "stream",
     "text": [
      "Special tokens have been added in the vocabulary, make sure the associated word embeddings are fine-tuned or trained.\n"
     ]
    },
    {
     "name": "stdout",
     "output_type": "stream",
     "text": [
      "\n",
      " Context length used for FLOP estimation: 768 tokens\n",
      "\n",
      "  Total Training FLOPs: 5.17e+16\n",
      "  Total Evaluation FLOPs: 2.59e+14\n",
      "  Total Combined FLOPs: 5.20e+16\n",
      "  Percentage of FLOP budget used: 51.98719%\n"
     ]
    }
   ],
   "source": [
    "import sys\n",
    "import os\n",
    "sys.path.append(os.path.abspath(\"../src\"))\n",
    "from compute_flops import compute_flops\n",
    "\n",
    "compute_flops(\n",
    "    data_path=\"../lotka_volterra_data.h5\",\n",
    "    input_fraction=1,\n",
    "    lora_rank=8,\n",
    "    batch_size=4,\n",
    "    training_steps=5000,\n",
    "    flop_budget=1e17,\n",
    "    train_series_count=700,\n",
    "    eval_series_count=300,\n",
    "    context_length=768\n",
    ")"
   ]
  },
  {
   "cell_type": "markdown",
   "metadata": {},
   "source": [
    "- Start with 1000 time series\n",
    "- Split immediately → 700 for training, 300 for evaluation\n",
    "- Tokenise the 700 training series into sequences\n",
    "- Train the model on this\n",
    "- Evaluate the model on the validation/test split (the 300)"
   ]
  },
  {
   "cell_type": "code",
   "execution_count": null,
   "metadata": {},
   "outputs": [],
   "source": []
  }
 ],
 "metadata": {
  "kernelspec": {
   "display_name": "base",
   "language": "python",
   "name": "python3"
  },
  "language_info": {
   "codemirror_mode": {
    "name": "ipython",
    "version": 3
   },
   "file_extension": ".py",
   "mimetype": "text/x-python",
   "name": "python",
   "nbconvert_exporter": "python",
   "pygments_lexer": "ipython3",
   "version": "3.12.2"
  }
 },
 "nbformat": 4,
 "nbformat_minor": 2
}
