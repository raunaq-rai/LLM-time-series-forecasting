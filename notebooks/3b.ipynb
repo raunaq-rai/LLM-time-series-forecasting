{
 "cells": [
  {
   "cell_type": "code",
   "execution_count": 1,
   "metadata": {},
   "outputs": [],
   "source": [
    "import sys\n",
    "import os\n",
    "import h5py\n",
    "import pandas as pd\n",
    "import matplotlib.pyplot as plt\n",
    "import numpy as np\n",
    "import torch\n",
    "import warnings\n",
    "warnings.filterwarnings(\"ignore\")\n",
    "\n",
    "# Get the absolute path to the src directory\n",
    "sys.path.append(os.path.abspath(\"../src\"))\n",
    "\n",
    "from train_lora_model import train_lora_model\n",
    "from preprocessor import LLMTIMEPreprocessor\n",
    "from load_qwen import load_qwen_model"
   ]
  },
  {
   "cell_type": "code",
   "execution_count": 2,
   "metadata": {},
   "outputs": [],
   "source": [
    "# 1) LoRA = 2, 1e-5\n"
   ]
  },
  {
   "cell_type": "code",
   "execution_count": 3,
   "metadata": {},
   "outputs": [
    {
     "name": "stderr",
     "output_type": "stream",
     "text": [
      "Special tokens have been added in the vocabulary, make sure the associated word embeddings are fine-tuned or trained.\n",
      "Special tokens have been added in the vocabulary, make sure the associated word embeddings are fine-tuned or trained.\n",
      "LoRA Training:   0%|          | 0/500 [00:00<?, ?it/s]huggingface/tokenizers: The current process just got forked, after parallelism has already been used. Disabling parallelism to avoid deadlocks...\n",
      "To disable this warning, you can either:\n",
      "\t- Avoid using `tokenizers` before the fork if possible\n",
      "\t- Explicitly set the environment variable TOKENIZERS_PARALLELISM=(true | false)\n",
      "Step 500/500:   0%|          | 0/500 [11:43<?, ?it/s, loss=0.54] "
     ]
    },
    {
     "name": "stdout",
     "output_type": "stream",
     "text": [
      "✅ Training complete. Running validation...\n"
     ]
    },
    {
     "name": "stderr",
     "output_type": "stream",
     "text": [
      "Step 500/500:   0%|          | 0/500 [12:41<?, ?it/s, loss=0.54]"
     ]
    },
    {
     "name": "stdout",
     "output_type": "stream",
     "text": [
      "📊 Average validation loss: 0.8371\n"
     ]
    },
    {
     "name": "stderr",
     "output_type": "stream",
     "text": [
      "\n"
     ]
    }
   ],
   "source": [
    "# 2) LoRA = 2, 5e-5\n",
    "# 1000\n",
    "\n",
    "model_2, model_2_val_loss = train_lora_model(\n",
    "    data_path=\"../lotka_volterra_data.h5\",\n",
    "    lora_rank=2,           \n",
    "    context_length=512,\n",
    "    learning_rate=5e-5,\n",
    "    batch_size=4,\n",
    "    max_steps=500,           \n",
    "    input_fraction=0.7,\n",
    "    verbose=True\n",
    ")"
   ]
  },
  {
   "cell_type": "code",
   "execution_count": 4,
   "metadata": {},
   "outputs": [],
   "source": [
    "# 3) LoRA = 2, 1e-4"
   ]
  },
  {
   "cell_type": "code",
   "execution_count": 5,
   "metadata": {},
   "outputs": [],
   "source": [
    "# 4) LoRA = 4, 1e-5\n",
    "# already done in 3a so dont have to re do it "
   ]
  },
  {
   "cell_type": "code",
   "execution_count": 6,
   "metadata": {},
   "outputs": [
    {
     "name": "stderr",
     "output_type": "stream",
     "text": [
      "Special tokens have been added in the vocabulary, make sure the associated word embeddings are fine-tuned or trained.\n",
      "Special tokens have been added in the vocabulary, make sure the associated word embeddings are fine-tuned or trained.\n",
      "Step 700/700:   0%|          | 0/700 [16:26<?, ?it/s, loss=0.563]"
     ]
    },
    {
     "name": "stdout",
     "output_type": "stream",
     "text": [
      "✅ Training complete. Running validation...\n"
     ]
    },
    {
     "name": "stderr",
     "output_type": "stream",
     "text": [
      "Step 700/700:   0%|          | 0/700 [17:24<?, ?it/s, loss=0.563]"
     ]
    },
    {
     "name": "stdout",
     "output_type": "stream",
     "text": [
      "📊 Average validation loss: 0.7181\n"
     ]
    },
    {
     "name": "stderr",
     "output_type": "stream",
     "text": [
      "\n"
     ]
    }
   ],
   "source": [
    "# 5) LoRA = 4, 5e-5\n",
    "# 1000\n",
    "model_5, model_5_val_loss = train_lora_model(\n",
    "    data_path=\"../lotka_volterra_data.h5\",\n",
    "    lora_rank=4,           \n",
    "    context_length=512,\n",
    "    learning_rate=5e-5,\n",
    "    batch_size=4,\n",
    "    max_steps=700,           \n",
    "    input_fraction=0.7,\n",
    "    verbose=True\n",
    ")"
   ]
  },
  {
   "cell_type": "code",
   "execution_count": null,
   "metadata": {},
   "outputs": [
    {
     "name": "stderr",
     "output_type": "stream",
     "text": [
      "Special tokens have been added in the vocabulary, make sure the associated word embeddings are fine-tuned or trained.\n",
      "Special tokens have been added in the vocabulary, make sure the associated word embeddings are fine-tuned or trained.\n",
      "Step 700/700:   0%|          | 0/700 [16:32<?, ?it/s, loss=0.433]"
     ]
    },
    {
     "name": "stdout",
     "output_type": "stream",
     "text": [
      "✅ Training complete. Running validation...\n"
     ]
    },
    {
     "name": "stderr",
     "output_type": "stream",
     "text": [
      "Step 700/700:   0%|          | 0/700 [17:31<?, ?it/s, loss=0.433]"
     ]
    },
    {
     "name": "stdout",
     "output_type": "stream",
     "text": [
      "📊 Average validation loss: 0.6414\n"
     ]
    },
    {
     "name": "stderr",
     "output_type": "stream",
     "text": [
      "\n"
     ]
    }
   ],
   "source": [
    "# 6) LoRA = 4, 1e-4\n",
    "model_6, model_6_val_loss = train_lora_model(\n",
    "    data_path=\"../lotka_volterra_data.h5\",\n",
    "    lora_rank=4,           \n",
    "    context_length=512,\n",
    "    learning_rate=1e-4,\n",
    "    batch_size=4,\n",
    "    max_steps=700,           \n",
    "    input_fraction=0.7,\n",
    "    verbose=True\n",
    ")"
   ]
  },
  {
   "cell_type": "code",
   "execution_count": null,
   "metadata": {},
   "outputs": [],
   "source": [
    "# 7) LoRA = 8, 1e-5"
   ]
  },
  {
   "cell_type": "code",
   "execution_count": null,
   "metadata": {},
   "outputs": [
    {
     "name": "stderr",
     "output_type": "stream",
     "text": [
      "Special tokens have been added in the vocabulary, make sure the associated word embeddings are fine-tuned or trained.\n",
      "Special tokens have been added in the vocabulary, make sure the associated word embeddings are fine-tuned or trained.\n",
      "Step 700/700:   0%|          | 0/700 [16:27<?, ?it/s, loss=0.482]"
     ]
    },
    {
     "name": "stdout",
     "output_type": "stream",
     "text": [
      "✅ Training complete. Running validation...\n"
     ]
    },
    {
     "name": "stderr",
     "output_type": "stream",
     "text": [
      "Step 700/700:   0%|          | 0/700 [17:26<?, ?it/s, loss=0.482]"
     ]
    },
    {
     "name": "stdout",
     "output_type": "stream",
     "text": [
      "📊 Average validation loss: 0.6655\n"
     ]
    },
    {
     "name": "stderr",
     "output_type": "stream",
     "text": [
      "\n"
     ]
    }
   ],
   "source": [
    "# 8) LoRA = 8, 5e-5\n",
    "model_8, model_8_val_loss = train_lora_model(\n",
    "    data_path=\"../lotka_volterra_data.h5\",\n",
    "    lora_rank=8,           \n",
    "    context_length=512,\n",
    "    learning_rate=5e-5,\n",
    "    batch_size=4,\n",
    "    max_steps=700,           \n",
    "    input_fraction=0.7,\n",
    "    verbose=True\n",
    ")"
   ]
  },
  {
   "cell_type": "code",
   "execution_count": 10,
   "metadata": {},
   "outputs": [
    {
     "name": "stderr",
     "output_type": "stream",
     "text": [
      "Special tokens have been added in the vocabulary, make sure the associated word embeddings are fine-tuned or trained.\n",
      "Special tokens have been added in the vocabulary, make sure the associated word embeddings are fine-tuned or trained.\n",
      "Step 800/800:   0%|          | 0/800 [18:56<?, ?it/s, loss=0.45] "
     ]
    },
    {
     "name": "stdout",
     "output_type": "stream",
     "text": [
      "✅ Training complete. Running validation...\n"
     ]
    },
    {
     "name": "stderr",
     "output_type": "stream",
     "text": [
      "Step 800/800:   0%|          | 0/800 [19:55<?, ?it/s, loss=0.45]"
     ]
    },
    {
     "name": "stdout",
     "output_type": "stream",
     "text": [
      "📊 Average validation loss: 0.5820\n"
     ]
    },
    {
     "name": "stderr",
     "output_type": "stream",
     "text": [
      "\n"
     ]
    }
   ],
   "source": [
    "# 9) LoRA = 8, 1e-4\n",
    "model_9, model_9_val_loss = train_lora_model(\n",
    "    data_path=\"../lotka_volterra_data.h5\",\n",
    "    lora_rank=8,           \n",
    "    context_length=512,\n",
    "    learning_rate=1e-4,\n",
    "    batch_size=4,\n",
    "    max_steps=800,           \n",
    "    input_fraction=0.7,\n",
    "    verbose=True\n",
    ")"
   ]
  },
  {
   "cell_type": "code",
   "execution_count": 11,
   "metadata": {},
   "outputs": [
    {
     "name": "stderr",
     "output_type": "stream",
     "text": [
      "Special tokens have been added in the vocabulary, make sure the associated word embeddings are fine-tuned or trained.\n",
      "Special tokens have been added in the vocabulary, make sure the associated word embeddings are fine-tuned or trained.\n",
      "Step 750/750:   0%|          | 0/750 [04:28<?, ?it/s, loss=0.732]"
     ]
    },
    {
     "name": "stdout",
     "output_type": "stream",
     "text": [
      "✅ Training complete. Running validation...\n"
     ]
    },
    {
     "name": "stderr",
     "output_type": "stream",
     "text": [
      "Step 750/750:   0%|          | 0/750 [05:27<?, ?it/s, loss=0.732]"
     ]
    },
    {
     "name": "stdout",
     "output_type": "stream",
     "text": [
      "📊 Average validation loss: 0.6990\n"
     ]
    },
    {
     "name": "stderr",
     "output_type": "stream",
     "text": [
      "\n"
     ]
    }
   ],
   "source": [
    "# 10) best config 128 context length LoRA = 8, learning rate = 1e-4, context length = 128\n",
    "model_10, model_10_val_loss = train_lora_model(\n",
    "    data_path=\"../lotka_volterra_data.h5\",\n",
    "    lora_rank=8,           \n",
    "    context_length=128,\n",
    "    learning_rate=1e-4,\n",
    "    batch_size=4,\n",
    "    max_steps=750,           \n",
    "    input_fraction=0.7,\n",
    "    verbose=True\n",
    ")"
   ]
  },
  {
   "cell_type": "code",
   "execution_count": 2,
   "metadata": {},
   "outputs": [
    {
     "name": "stderr",
     "output_type": "stream",
     "text": [
      "Special tokens have been added in the vocabulary, make sure the associated word embeddings are fine-tuned or trained.\n",
      "Special tokens have been added in the vocabulary, make sure the associated word embeddings are fine-tuned or trained.\n",
      "LoRA Training:   0%|          | 0/750 [00:00<?, ?it/s]huggingface/tokenizers: The current process just got forked, after parallelism has already been used. Disabling parallelism to avoid deadlocks...\n",
      "To disable this warning, you can either:\n",
      "\t- Avoid using `tokenizers` before the fork if possible\n",
      "\t- Explicitly set the environment variable TOKENIZERS_PARALLELISM=(true | false)\n",
      "Step 750/750:   0%|          | 0/750 [28:01<?, ?it/s, loss=0.569]"
     ]
    },
    {
     "name": "stdout",
     "output_type": "stream",
     "text": [
      "✅ Training complete. Running validation...\n"
     ]
    },
    {
     "name": "stderr",
     "output_type": "stream",
     "text": [
      "Step 750/750:   0%|          | 0/750 [29:32<?, ?it/s, loss=0.569]"
     ]
    },
    {
     "name": "stdout",
     "output_type": "stream",
     "text": [
      "📊 Average validation loss: 0.4042\n"
     ]
    },
    {
     "name": "stderr",
     "output_type": "stream",
     "text": [
      "\n"
     ]
    }
   ],
   "source": [
    "# 11) best config 768 context length LoRA = 8, learning rate = 1e-4, context length = 768\n",
    "model_11, model_11_val_loss = train_lora_model(\n",
    "    data_path=\"../lotka_volterra_data.h5\",\n",
    "    lora_rank=8,           \n",
    "    context_length=768,\n",
    "    learning_rate=1e-4,\n",
    "    batch_size=4,\n",
    "    max_steps=750,           \n",
    "    input_fraction=0.7,\n",
    "    verbose=True\n",
    ")"
   ]
  },
  {
   "cell_type": "code",
   "execution_count": null,
   "metadata": {},
   "outputs": [],
   "source": []
  }
 ],
 "metadata": {
  "kernelspec": {
   "display_name": "base",
   "language": "python",
   "name": "python3"
  },
  "language_info": {
   "codemirror_mode": {
    "name": "ipython",
    "version": 3
   },
   "file_extension": ".py",
   "mimetype": "text/x-python",
   "name": "python",
   "nbconvert_exporter": "python",
   "pygments_lexer": "ipython3",
   "version": "3.12.2"
  }
 },
 "nbformat": 4,
 "nbformat_minor": 2
}
