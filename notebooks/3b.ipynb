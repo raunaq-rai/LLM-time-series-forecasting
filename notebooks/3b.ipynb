{
 "cells": [
  {
   "cell_type": "code",
   "execution_count": 1,
   "metadata": {},
   "outputs": [],
   "source": [
    "import sys\n",
    "import os\n",
    "import h5py\n",
    "import pandas as pd\n",
    "import matplotlib.pyplot as plt\n",
    "import numpy as np\n",
    "import torch\n",
    "import warnings\n",
    "warnings.filterwarnings(\"ignore\")\n",
    "\n",
    "# Get the absolute path to the src directory\n",
    "sys.path.append(os.path.abspath(\"../src\"))\n",
    "\n",
    "from train_lora_model import train_lora_model\n",
    "from preprocessor import LLMTIMEPreprocessor\n",
    "from load_qwen import load_qwen_model\n",
    "from compute_flops import compute_flops"
   ]
  },
  {
   "cell_type": "code",
   "execution_count": 2,
   "metadata": {},
   "outputs": [],
   "source": [
    "# 1) LoRA = 2, 1e-5\n"
   ]
  },
  {
   "cell_type": "code",
   "execution_count": 3,
   "metadata": {},
   "outputs": [
    {
     "name": "stderr",
     "output_type": "stream",
     "text": [
      "Special tokens have been added in the vocabulary, make sure the associated word embeddings are fine-tuned or trained.\n",
      "Special tokens have been added in the vocabulary, make sure the associated word embeddings are fine-tuned or trained.\n",
      "LoRA Training:   0%|          | 0/600 [00:00<?, ?it/s]huggingface/tokenizers: The current process just got forked, after parallelism has already been used. Disabling parallelism to avoid deadlocks...\n",
      "To disable this warning, you can either:\n",
      "\t- Avoid using `tokenizers` before the fork if possible\n",
      "\t- Explicitly set the environment variable TOKENIZERS_PARALLELISM=(true | false)\n",
      "Step 600/600:   0%|          | 0/600 [14:07<?, ?it/s, loss=0.683]"
     ]
    },
    {
     "name": "stdout",
     "output_type": "stream",
     "text": [
      " Training complete. Running validation...\n"
     ]
    },
    {
     "name": "stderr",
     "output_type": "stream",
     "text": [
      "Step 600/600:   0%|          | 0/600 [15:06<?, ?it/s, loss=0.683]"
     ]
    },
    {
     "name": "stdout",
     "output_type": "stream",
     "text": [
      " Average validation loss: 0.8099\n"
     ]
    },
    {
     "name": "stderr",
     "output_type": "stream",
     "text": [
      "\n"
     ]
    }
   ],
   "source": [
    "# 2) LoRA = 2, 5e-5\n",
    "# 1000\n",
    "\n",
    "model_2, model_2_val_loss = train_lora_model(\n",
    "    data_path=\"../lotka_volterra_data.h5\",\n",
    "    lora_rank=2,           \n",
    "    context_length=512,\n",
    "    learning_rate=5e-5,\n",
    "    batch_size=4,\n",
    "    max_steps=600,           \n",
    "    input_fraction=0.7,\n",
    "    verbose=True\n",
    ")"
   ]
  },
  {
   "cell_type": "code",
   "execution_count": 2,
   "metadata": {},
   "outputs": [
    {
     "name": "stderr",
     "output_type": "stream",
     "text": [
      "Special tokens have been added in the vocabulary, make sure the associated word embeddings are fine-tuned or trained.\n"
     ]
    },
    {
     "name": "stdout",
     "output_type": "stream",
     "text": [
      "\n",
      " Context length used for FLOP estimation: 512 tokens\n",
      "\n",
      "  Total Training FLOPs: 4.05e+15\n",
      "  Total Evaluation FLOPs: 1.69e+14\n",
      "  Total Combined FLOPs: 4.22e+15\n",
      "  Percentage of FLOP budget used: 4.22120%\n"
     ]
    }
   ],
   "source": [
    "compute_flops(\n",
    "    data_path=\"../lotka_volterra_data.h5\",\n",
    "    input_fraction=1,\n",
    "    lora_rank=2,\n",
    "    batch_size=4,\n",
    "    training_steps=600,\n",
    "    flop_budget=1e17,\n",
    "    train_series_count=700,\n",
    "    eval_series_count=300,\n",
    "    context_length=512\n",
    ")"
   ]
  },
  {
   "cell_type": "code",
   "execution_count": 4,
   "metadata": {},
   "outputs": [],
   "source": [
    "# 3) LoRA = 2, 1e-4"
   ]
  },
  {
   "cell_type": "code",
   "execution_count": 5,
   "metadata": {},
   "outputs": [],
   "source": [
    "# 4) LoRA = 4, 1e-5\n",
    "# already done in 3a so dont have to re do it "
   ]
  },
  {
   "cell_type": "code",
   "execution_count": 4,
   "metadata": {},
   "outputs": [
    {
     "name": "stderr",
     "output_type": "stream",
     "text": [
      "Special tokens have been added in the vocabulary, make sure the associated word embeddings are fine-tuned or trained.\n",
      "Special tokens have been added in the vocabulary, make sure the associated word embeddings are fine-tuned or trained.\n",
      "Step 600/600:   0%|          | 0/600 [14:06<?, ?it/s, loss=0.798]"
     ]
    },
    {
     "name": "stdout",
     "output_type": "stream",
     "text": [
      " Training complete. Running validation...\n"
     ]
    },
    {
     "name": "stderr",
     "output_type": "stream",
     "text": [
      "Step 600/600:   0%|          | 0/600 [15:05<?, ?it/s, loss=0.798]"
     ]
    },
    {
     "name": "stdout",
     "output_type": "stream",
     "text": [
      " Average validation loss: 0.7351\n"
     ]
    },
    {
     "name": "stderr",
     "output_type": "stream",
     "text": [
      "\n"
     ]
    }
   ],
   "source": [
    "# 5) LoRA = 4, 5e-5\n",
    "# 1000\n",
    "model_5, model_5_val_loss = train_lora_model(\n",
    "    data_path=\"../lotka_volterra_data.h5\",\n",
    "    lora_rank=4,           \n",
    "    context_length=512,\n",
    "    learning_rate=5e-5,\n",
    "    batch_size=4,\n",
    "    max_steps=600,           \n",
    "    input_fraction=0.7,\n",
    "    verbose=True\n",
    ")\n"
   ]
  },
  {
   "cell_type": "code",
   "execution_count": 3,
   "metadata": {},
   "outputs": [
    {
     "name": "stderr",
     "output_type": "stream",
     "text": [
      "Special tokens have been added in the vocabulary, make sure the associated word embeddings are fine-tuned or trained.\n"
     ]
    },
    {
     "name": "stdout",
     "output_type": "stream",
     "text": [
      "\n",
      " Context length used for FLOP estimation: 512 tokens\n",
      "\n",
      "  Total Training FLOPs: 4.05e+15\n",
      "  Total Evaluation FLOPs: 1.69e+14\n",
      "  Total Combined FLOPs: 4.22e+15\n",
      "  Percentage of FLOP budget used: 4.22252%\n"
     ]
    }
   ],
   "source": [
    "compute_flops(\n",
    "    data_path=\"../lotka_volterra_data.h5\",\n",
    "    input_fraction=1,\n",
    "    lora_rank=4,\n",
    "    batch_size=4,\n",
    "    training_steps=600,\n",
    "    flop_budget=1e17,\n",
    "    train_series_count=700,\n",
    "    eval_series_count=300,\n",
    "    context_length=512\n",
    ")"
   ]
  },
  {
   "cell_type": "code",
   "execution_count": 5,
   "metadata": {},
   "outputs": [
    {
     "name": "stderr",
     "output_type": "stream",
     "text": [
      "Special tokens have been added in the vocabulary, make sure the associated word embeddings are fine-tuned or trained.\n",
      "Special tokens have been added in the vocabulary, make sure the associated word embeddings are fine-tuned or trained.\n",
      "Step 600/600:   0%|          | 0/600 [14:19<?, ?it/s, loss=0.725]"
     ]
    },
    {
     "name": "stdout",
     "output_type": "stream",
     "text": [
      " Training complete. Running validation...\n"
     ]
    },
    {
     "name": "stderr",
     "output_type": "stream",
     "text": [
      "Step 600/600:   0%|          | 0/600 [15:18<?, ?it/s, loss=0.725]"
     ]
    },
    {
     "name": "stdout",
     "output_type": "stream",
     "text": [
      " Average validation loss: 0.6515\n"
     ]
    },
    {
     "name": "stderr",
     "output_type": "stream",
     "text": [
      "\n"
     ]
    }
   ],
   "source": [
    "# 6) LoRA = 4, 1e-4\n",
    "model_6, model_6_val_loss = train_lora_model(\n",
    "    data_path=\"../lotka_volterra_data.h5\",\n",
    "    lora_rank=4,           \n",
    "    context_length=512,\n",
    "    learning_rate=1e-4,\n",
    "    batch_size=4,\n",
    "    max_steps=600,           \n",
    "    input_fraction=0.7,\n",
    "    verbose=True\n",
    ")"
   ]
  },
  {
   "cell_type": "code",
   "execution_count": 4,
   "metadata": {},
   "outputs": [
    {
     "name": "stderr",
     "output_type": "stream",
     "text": [
      "Special tokens have been added in the vocabulary, make sure the associated word embeddings are fine-tuned or trained.\n"
     ]
    },
    {
     "name": "stdout",
     "output_type": "stream",
     "text": [
      "\n",
      " Context length used for FLOP estimation: 512 tokens\n",
      "\n",
      "  Total Training FLOPs: 4.05e+15\n",
      "  Total Evaluation FLOPs: 1.69e+14\n",
      "  Total Combined FLOPs: 4.22e+15\n",
      "  Percentage of FLOP budget used: 4.22252%\n"
     ]
    }
   ],
   "source": [
    "compute_flops(\n",
    "    data_path=\"../lotka_volterra_data.h5\",\n",
    "    input_fraction=1,\n",
    "    lora_rank=4,\n",
    "    batch_size=4,\n",
    "    training_steps=600,\n",
    "    flop_budget=1e17,\n",
    "    train_series_count=700,\n",
    "    eval_series_count=300,\n",
    "    context_length=512\n",
    ")"
   ]
  },
  {
   "cell_type": "code",
   "execution_count": null,
   "metadata": {},
   "outputs": [],
   "source": [
    "# 7) LoRA = 8, 1e-5"
   ]
  },
  {
   "cell_type": "code",
   "execution_count": 6,
   "metadata": {},
   "outputs": [
    {
     "name": "stderr",
     "output_type": "stream",
     "text": [
      "Special tokens have been added in the vocabulary, make sure the associated word embeddings are fine-tuned or trained.\n",
      "Special tokens have been added in the vocabulary, make sure the associated word embeddings are fine-tuned or trained.\n",
      "Step 600/600:   0%|          | 0/600 [14:06<?, ?it/s, loss=0.486]"
     ]
    },
    {
     "name": "stdout",
     "output_type": "stream",
     "text": [
      " Training complete. Running validation...\n"
     ]
    },
    {
     "name": "stderr",
     "output_type": "stream",
     "text": [
      "Step 600/600:   0%|          | 0/600 [15:05<?, ?it/s, loss=0.486]"
     ]
    },
    {
     "name": "stdout",
     "output_type": "stream",
     "text": [
      " Average validation loss: 0.6744\n"
     ]
    },
    {
     "name": "stderr",
     "output_type": "stream",
     "text": [
      "\n"
     ]
    }
   ],
   "source": [
    "# 8) LoRA = 8, 5e-5\n",
    "model_8, model_8_val_loss = train_lora_model(\n",
    "    data_path=\"../lotka_volterra_data.h5\",\n",
    "    lora_rank=8,           \n",
    "    context_length=512,\n",
    "    learning_rate=5e-5,\n",
    "    batch_size=4,\n",
    "    max_steps=600,           \n",
    "    input_fraction=0.7,\n",
    "    verbose=True\n",
    ")"
   ]
  },
  {
   "cell_type": "code",
   "execution_count": 5,
   "metadata": {},
   "outputs": [
    {
     "name": "stderr",
     "output_type": "stream",
     "text": [
      "Special tokens have been added in the vocabulary, make sure the associated word embeddings are fine-tuned or trained.\n"
     ]
    },
    {
     "name": "stdout",
     "output_type": "stream",
     "text": [
      "\n",
      " Context length used for FLOP estimation: 512 tokens\n",
      "\n",
      "  Total Training FLOPs: 4.06e+15\n",
      "  Total Evaluation FLOPs: 1.69e+14\n",
      "  Total Combined FLOPs: 4.23e+15\n",
      "  Percentage of FLOP budget used: 4.22516%\n"
     ]
    }
   ],
   "source": [
    "compute_flops(\n",
    "    data_path=\"../lotka_volterra_data.h5\",\n",
    "    input_fraction=1,\n",
    "    lora_rank=8,\n",
    "    batch_size=4,\n",
    "    training_steps=600,\n",
    "    flop_budget=1e17,\n",
    "    train_series_count=700,\n",
    "    eval_series_count=300,\n",
    "    context_length=512\n",
    ")"
   ]
  },
  {
   "cell_type": "code",
   "execution_count": 7,
   "metadata": {},
   "outputs": [
    {
     "name": "stderr",
     "output_type": "stream",
     "text": [
      "Special tokens have been added in the vocabulary, make sure the associated word embeddings are fine-tuned or trained.\n",
      "Special tokens have been added in the vocabulary, make sure the associated word embeddings are fine-tuned or trained.\n",
      "Step 600/600:   0%|          | 0/600 [14:06<?, ?it/s, loss=0.615]"
     ]
    },
    {
     "name": "stdout",
     "output_type": "stream",
     "text": [
      " Training complete. Running validation...\n"
     ]
    },
    {
     "name": "stderr",
     "output_type": "stream",
     "text": [
      "Step 600/600:   0%|          | 0/600 [15:05<?, ?it/s, loss=0.615]"
     ]
    },
    {
     "name": "stdout",
     "output_type": "stream",
     "text": [
      " Average validation loss: 0.6162\n"
     ]
    },
    {
     "name": "stderr",
     "output_type": "stream",
     "text": [
      "\n"
     ]
    }
   ],
   "source": [
    "# 9) LoRA = 8, 1e-4\n",
    "model_9, model_9_val_loss = train_lora_model(\n",
    "    data_path=\"../lotka_volterra_data.h5\",\n",
    "    lora_rank=8,           \n",
    "    context_length=512,\n",
    "    learning_rate=1e-4,\n",
    "    batch_size=4,\n",
    "    max_steps=600,           \n",
    "    input_fraction=0.7,\n",
    "    verbose=True\n",
    ")"
   ]
  },
  {
   "cell_type": "code",
   "execution_count": 6,
   "metadata": {},
   "outputs": [
    {
     "name": "stderr",
     "output_type": "stream",
     "text": [
      "Special tokens have been added in the vocabulary, make sure the associated word embeddings are fine-tuned or trained.\n"
     ]
    },
    {
     "name": "stdout",
     "output_type": "stream",
     "text": [
      "\n",
      " Context length used for FLOP estimation: 512 tokens\n",
      "\n",
      "  Total Training FLOPs: 4.06e+15\n",
      "  Total Evaluation FLOPs: 1.69e+14\n",
      "  Total Combined FLOPs: 4.23e+15\n",
      "  Percentage of FLOP budget used: 4.22516%\n"
     ]
    }
   ],
   "source": [
    "compute_flops(\n",
    "    data_path=\"../lotka_volterra_data.h5\",\n",
    "    input_fraction=1,\n",
    "    lora_rank=8,\n",
    "    batch_size=4,\n",
    "    training_steps=600,\n",
    "    flop_budget=1e17,\n",
    "    train_series_count=700,\n",
    "    eval_series_count=300,\n",
    "    context_length=512\n",
    ")"
   ]
  },
  {
   "cell_type": "code",
   "execution_count": 9,
   "metadata": {},
   "outputs": [
    {
     "name": "stderr",
     "output_type": "stream",
     "text": [
      "Special tokens have been added in the vocabulary, make sure the associated word embeddings are fine-tuned or trained.\n",
      "Special tokens have been added in the vocabulary, make sure the associated word embeddings are fine-tuned or trained.\n",
      "LoRA Training:   0%|          | 0/600 [00:00<?, ?it/s]huggingface/tokenizers: The current process just got forked, after parallelism has already been used. Disabling parallelism to avoid deadlocks...\n",
      "To disable this warning, you can either:\n",
      "\t- Avoid using `tokenizers` before the fork if possible\n",
      "\t- Explicitly set the environment variable TOKENIZERS_PARALLELISM=(true | false)\n",
      "Step 600/600:   0%|          | 0/600 [03:22<?, ?it/s, loss=0.741]"
     ]
    },
    {
     "name": "stdout",
     "output_type": "stream",
     "text": [
      " Training complete. Running validation...\n"
     ]
    },
    {
     "name": "stderr",
     "output_type": "stream",
     "text": [
      "Step 600/600:   0%|          | 0/600 [04:20<?, ?it/s, loss=0.741]"
     ]
    },
    {
     "name": "stdout",
     "output_type": "stream",
     "text": [
      " Average validation loss: 0.7229\n"
     ]
    },
    {
     "name": "stderr",
     "output_type": "stream",
     "text": [
      "\n"
     ]
    }
   ],
   "source": [
    "# 10) best config 128 context length LoRA = 8, learning rate = 1e-4, context length = 128\n",
    "model_10, model_10_val_loss = train_lora_model(\n",
    "    data_path=\"../lotka_volterra_data.h5\",\n",
    "    lora_rank=8,           \n",
    "    context_length=128,\n",
    "    learning_rate=1e-4,\n",
    "    batch_size=4,\n",
    "    max_steps=600,           \n",
    "    input_fraction=0.7,\n",
    "    verbose=True\n",
    ")"
   ]
  },
  {
   "cell_type": "code",
   "execution_count": 7,
   "metadata": {},
   "outputs": [
    {
     "name": "stderr",
     "output_type": "stream",
     "text": [
      "Special tokens have been added in the vocabulary, make sure the associated word embeddings are fine-tuned or trained.\n"
     ]
    },
    {
     "name": "stdout",
     "output_type": "stream",
     "text": [
      "\n",
      " Context length used for FLOP estimation: 128 tokens\n",
      "\n",
      "  Total Training FLOPs: 9.83e+14\n",
      "  Total Evaluation FLOPs: 4.10e+13\n",
      "  Total Combined FLOPs: 1.02e+15\n",
      "  Percentage of FLOP budget used: 1.02421%\n"
     ]
    }
   ],
   "source": [
    "compute_flops(\n",
    "    data_path=\"../lotka_volterra_data.h5\",\n",
    "    input_fraction=1,\n",
    "    lora_rank=8,\n",
    "    batch_size=4,\n",
    "    training_steps=600,\n",
    "    flop_budget=1e17,\n",
    "    train_series_count=700,\n",
    "    eval_series_count=300,\n",
    "    context_length=128\n",
    ")"
   ]
  },
  {
   "cell_type": "code",
   "execution_count": 2,
   "metadata": {},
   "outputs": [
    {
     "name": "stderr",
     "output_type": "stream",
     "text": [
      "Special tokens have been added in the vocabulary, make sure the associated word embeddings are fine-tuned or trained.\n",
      "Special tokens have been added in the vocabulary, make sure the associated word embeddings are fine-tuned or trained.\n",
      "LoRA Training:   0%|          | 0/600 [00:00<?, ?it/s]huggingface/tokenizers: The current process just got forked, after parallelism has already been used. Disabling parallelism to avoid deadlocks...\n",
      "To disable this warning, you can either:\n",
      "\t- Avoid using `tokenizers` before the fork if possible\n",
      "\t- Explicitly set the environment variable TOKENIZERS_PARALLELISM=(true | false)\n",
      "Step 600/600:   0%|          | 0/600 [22:33<?, ?it/s, loss=0.392]"
     ]
    },
    {
     "name": "stdout",
     "output_type": "stream",
     "text": [
      " Training complete. Running validation...\n"
     ]
    },
    {
     "name": "stderr",
     "output_type": "stream",
     "text": [
      "Step 600/600:   0%|          | 0/600 [24:05<?, ?it/s, loss=0.392]"
     ]
    },
    {
     "name": "stdout",
     "output_type": "stream",
     "text": [
      " Average validation loss: 0.4207\n"
     ]
    },
    {
     "name": "stderr",
     "output_type": "stream",
     "text": [
      "\n"
     ]
    }
   ],
   "source": [
    "# 11) best config 768 context length LoRA = 8, learning rate = 1e-4, context length = 768\n",
    "model_11, model_11_val_loss = train_lora_model(\n",
    "    data_path=\"../lotka_volterra_data.h5\",\n",
    "    lora_rank=8,           \n",
    "    context_length=768,\n",
    "    learning_rate=1e-4,\n",
    "    batch_size=4,\n",
    "    max_steps=600,           \n",
    "    input_fraction=0.7,\n",
    "    verbose=True\n",
    ")"
   ]
  },
  {
   "cell_type": "code",
   "execution_count": 8,
   "metadata": {},
   "outputs": [
    {
     "name": "stderr",
     "output_type": "stream",
     "text": [
      "Special tokens have been added in the vocabulary, make sure the associated word embeddings are fine-tuned or trained.\n"
     ]
    },
    {
     "name": "stdout",
     "output_type": "stream",
     "text": [
      "\n",
      " Context length used for FLOP estimation: 768 tokens\n",
      "\n",
      "  Total Training FLOPs: 6.21e+15\n",
      "  Total Evaluation FLOPs: 2.59e+14\n",
      "  Total Combined FLOPs: 6.47e+15\n",
      "  Percentage of FLOP budget used: 6.46607%\n"
     ]
    }
   ],
   "source": [
    "compute_flops(\n",
    "    data_path=\"../lotka_volterra_data.h5\",\n",
    "    input_fraction=1,\n",
    "    lora_rank=8,\n",
    "    batch_size=4,\n",
    "    training_steps=600,\n",
    "    flop_budget=1e17,\n",
    "    train_series_count=700,\n",
    "    eval_series_count=300,\n",
    "    context_length=768\n",
    ")"
   ]
  },
  {
   "cell_type": "code",
   "execution_count": null,
   "metadata": {},
   "outputs": [],
   "source": []
  }
 ],
 "metadata": {
  "kernelspec": {
   "display_name": "base",
   "language": "python",
   "name": "python3"
  },
  "language_info": {
   "codemirror_mode": {
    "name": "ipython",
    "version": 3
   },
   "file_extension": ".py",
   "mimetype": "text/x-python",
   "name": "python",
   "nbconvert_exporter": "python",
   "pygments_lexer": "ipython3",
   "version": "3.12.2"
  }
 },
 "nbformat": 4,
 "nbformat_minor": 2
}
